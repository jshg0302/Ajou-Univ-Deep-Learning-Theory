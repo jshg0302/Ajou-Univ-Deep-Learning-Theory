{
 "cells": [
  {
   "cell_type": "markdown",
   "metadata": {},
   "source": [
    "# 1. Convolution Neural Network\n",
    "A Convolutional Neural Network (CNN) is a type of deep learning model designed to process data with a grid-like topology, such as images. It is widely used in image classification, object detection, and video analysis.\n",
    "\n",
    "## Component\n",
    "\n",
    "### Convolution Layer\n",
    "Applies filters (kernels) to the input to extract local features like edges, corners, or textures.\n",
    "```Py\n",
    "torch.nn.Conv2d(\n",
    "    in_channels,\n",
    "    out_channels,\n",
    "    kernel_size,\n",
    "    stride=1,\n",
    "    padding=0,\n",
    "    ...\n",
    ")\n",
    "```\n",
    "https://pytorch.org/docs/stable/generated/torch.nn.Conv2d.html\n",
    "\n",
    "### Pooling Layer\n",
    "Reduces the spatial size of the feature maps to lower computational cost and retain important information.\n",
    "\n",
    "ex) Max Pooling, Average Pooling\n",
    "\n",
    "```Py\n",
    "torch.nn.MaxPool2d(\n",
    "    kernel_size,\n",
    "    stride=None,\n",
    "    padding=0\n",
    "    ...\n",
    ")\n",
    "```\n",
    "https://pytorch.org/docs/stable/generated/torch.nn.MaxPool2d.html\n",
    "\n",
    "### Relu Activation Function\n",
    "Introduces non-linearity by setting negative values to zero and keeping positive values.\n",
    "```Py\n",
    "torch.nn.functional.relu(\n",
    "    input\n",
    ")\n",
    "```\n",
    "https://pytorch.org/docs/stable/generated/torch.nn.functional.relu.html\n",
    "\n",
    "### Dropout\n",
    "Dropout is a regularization technique used to prevent overfitting in neural networks.\n",
    "```Py\n",
    "torch.nn.Dropout(\n",
    "    p # dropout percent\n",
    ")\n",
    "```\n",
    "https://pytorch.org/docs/stable/generated/torch.nn.Dropout.html\n",
    "\n",
    "\n",
    "### Fully Connected Layer\n",
    "Typically at the end of the network, responsible for making final decisions (like classification) based on the extracted features.\n",
    "\n",
    "```Py\n",
    "torch.nn.Linear(\n",
    "    in_features,\n",
    "    out_features,\n",
    "    ...\n",
    ")\n",
    "```\n",
    "https://pytorch.org/docs/stable/generated/torch.nn.Linear.html"
   ]
  },
  {
   "cell_type": "markdown",
   "metadata": {},
   "source": [
    "# 2. Import Libaray"
   ]
  },
  {
   "cell_type": "code",
   "execution_count": 2,
   "metadata": {},
   "outputs": [],
   "source": [
    "import torch\n",
    "import torch.nn as nn\n",
    "import torch.nn.functional as F\n",
    "import torchvision\n",
    "import torchvision.transforms as transforms\n",
    "from torch.utils.data import DataLoader"
   ]
  },
  {
   "cell_type": "markdown",
   "metadata": {},
   "source": [
    "# 3. MNIST data\n",
    "The MNIST (Mixed National Institute of Standards and Technology) dataset\n",
    "is a collection of handwritten digit images, ranging from 0 to 9.\n",
    "\n",
    "## Detail\n",
    "Image Size: 28 × 28 pixels, grayscale\n",
    "\n",
    "Data Split: Training images: 60,000, Test images: 10,000\n",
    "\n",
    "Number of Classes: 10 (digits from 0 to 9)\n",
    "\n",
    "<img src=\"https://storage.googleapis.com/tfds-data/visualization/fig/mnist-3.0.1.png\" width=\"500\"/>"
   ]
  },
  {
   "cell_type": "code",
   "execution_count": 3,
   "metadata": {},
   "outputs": [],
   "source": [
    "transform = transforms.Compose([\n",
    "    transforms.ToTensor(),  # [0,1]\n",
    "    transforms.Normalize((0.5,), (0.5,))  # [-1,1]\n",
    "])\n",
    "\n",
    "train_dataset = torchvision.datasets.MNIST(root='./data', train=True, download=True, transform=transform)\n",
    "test_dataset = torchvision.datasets.MNIST(root='./data', train=False, download=True, transform=transform)\n",
    "\n",
    "train_loader = DataLoader(train_dataset, batch_size=100, shuffle=True)\n",
    "test_loader = DataLoader(test_dataset, batch_size=100, shuffle=False)"
   ]
  },
  {
   "cell_type": "markdown",
   "metadata": {},
   "source": [
    "# 4. Model Implement\n",
    "<img src=\"./그림1.jpg\" width=\"500\"/>\n",
    "<img src=\"./그림2.jpg\" width=\"500\"/>\n"
   ]
  },
  {
   "cell_type": "code",
   "execution_count": 4,
   "metadata": {},
   "outputs": [],
   "source": [
    "import torch.nn as nn\n",
    "import torch.nn.functional as F\n",
    "\n",
    "class CNN(nn.Module):\n",
    "    def __init__(self):\n",
    "        super(CNN, self).__init__()\n",
    "        self.conv1 = nn.Conv2d(1, 32, kernel_size=3)\n",
    "        self.pool1 = nn.MaxPool2d(kernel_size=2, stride=2)\n",
    "        self.conv2 = nn.Conv2d(32, 64, kernel_size=3)\n",
    "        self.pool2 = nn.MaxPool2d(kernel_size=2, stride=2)\n",
    "        self.flatten = nn.Flatten()\n",
    "        self.fc = nn.Linear(64 * 5 * 5, 10)\n",
    "        self.dropout = nn.Dropout(0.2)\n",
    "\n",
    "    def forward(self, x):\n",
    "        x = self.conv1(x)\n",
    "        x = F.relu(x)\n",
    "        x = self.dropout(x)\n",
    "        x = self.pool1(x)\n",
    "        x = self.conv2(x)\n",
    "        x = F.relu(x)\n",
    "        x = self.dropout(x)\n",
    "        x = self.pool2(x)\n",
    "        x = self.flatten(x)\n",
    "        x = self.fc(x)\n",
    "        return x"
   ]
  },
  {
   "cell_type": "code",
   "execution_count": 5,
   "metadata": {},
   "outputs": [],
   "source": [
    "device = torch.device(\"cuda\" if torch.cuda.is_available() else \"cpu\")\n",
    "model = CNN().to(device)\n",
    "criterion = nn.CrossEntropyLoss()\n",
    "optimizer = torch.optim.SGD(model.parameters(), lr=0.01)"
   ]
  },
  {
   "cell_type": "code",
   "execution_count": 6,
   "metadata": {},
   "outputs": [
    {
     "name": "stdout",
     "output_type": "stream",
     "text": [
      "Epoch 1, Loss: 375.0199\n",
      "Epoch 2, Loss: 132.3953\n",
      "Epoch 3, Loss: 92.6791\n",
      "Epoch 4, Loss: 73.6675\n",
      "Epoch 5, Loss: 63.5988\n",
      "Epoch 6, Loss: 56.1806\n",
      "Epoch 7, Loss: 51.5981\n",
      "Epoch 8, Loss: 47.0752\n",
      "Epoch 9, Loss: 44.2062\n",
      "Epoch 10, Loss: 42.0818\n",
      "Epoch 11, Loss: 40.2117\n",
      "Epoch 12, Loss: 38.0956\n",
      "Epoch 13, Loss: 36.5752\n",
      "Epoch 14, Loss: 35.8459\n",
      "Epoch 15, Loss: 34.3372\n"
     ]
    }
   ],
   "source": [
    "for epoch in range(15):\n",
    "    model.train()\n",
    "    running_loss = 0.0\n",
    "    for images, labels in train_loader:\n",
    "        images, labels = images.to(device), labels.to(device)\n",
    "\n",
    "        optimizer.zero_grad()\n",
    "        outputs = model(images)\n",
    "        loss = criterion(outputs, labels)\n",
    "        loss.backward()\n",
    "        optimizer.step()\n",
    "\n",
    "        running_loss += loss.item()\n",
    "    print(f\"Epoch {epoch+1}, Loss: {running_loss:.4f}\")"
   ]
  },
  {
   "cell_type": "code",
   "execution_count": 7,
   "metadata": {},
   "outputs": [
    {
     "name": "stdout",
     "output_type": "stream",
     "text": [
      "Accuracy: 0.9847\n"
     ]
    }
   ],
   "source": [
    "model.eval()\n",
    "correct = 0\n",
    "total = 0\n",
    "with torch.no_grad():\n",
    "    for images, labels in test_loader:\n",
    "        images, labels = images.to(device), labels.to(device)\n",
    "        outputs = model(images)\n",
    "        _, predicted = torch.max(outputs, 1)\n",
    "        total += labels.size(0)\n",
    "        correct += (predicted == labels).sum().item()\n",
    "\n",
    "accuracy = correct / total\n",
    "print(f\"Accuracy: {accuracy:.4f}\")"
   ]
  },
  {
   "cell_type": "code",
   "execution_count": 8,
   "metadata": {},
   "outputs": [
    {
     "name": "stdout",
     "output_type": "stream",
     "text": [
      "----------------------------------------------------------------\n",
      "        Layer (type)               Output Shape         Param #\n",
      "================================================================\n",
      "            Conv2d-1           [-1, 32, 26, 26]             320\n",
      "           Dropout-2           [-1, 32, 26, 26]               0\n",
      "         MaxPool2d-3           [-1, 32, 13, 13]               0\n",
      "            Conv2d-4           [-1, 64, 11, 11]          18,496\n",
      "           Dropout-5           [-1, 64, 11, 11]               0\n",
      "         MaxPool2d-6             [-1, 64, 5, 5]               0\n",
      "           Flatten-7                 [-1, 1600]               0\n",
      "            Linear-8                   [-1, 10]          16,010\n",
      "================================================================\n",
      "Total params: 34,826\n",
      "Trainable params: 34,826\n",
      "Non-trainable params: 0\n",
      "----------------------------------------------------------------\n",
      "Input size (MB): 0.00\n",
      "Forward/backward pass size (MB): 0.51\n",
      "Params size (MB): 0.13\n",
      "Estimated Total Size (MB): 0.65\n",
      "----------------------------------------------------------------\n"
     ]
    }
   ],
   "source": [
    "from torchsummary import summary\n",
    "summary(model, input_size=(1, 28, 28))"
   ]
  },
  {
   "cell_type": "code",
   "execution_count": 9,
   "metadata": {},
   "outputs": [
    {
     "name": "stdout",
     "output_type": "stream",
     "text": [
      "✅ correct\n"
     ]
    },
    {
     "data": {
      "image/png": "[encoded data removed]",
      "text/plain": [
       "<Figure size 600x300 with 5 Axes>"
      ]
     },
     "metadata": {},
     "output_type": "display_data"
    },
    {
     "name": "stdout",
     "output_type": "stream",
     "text": [
      "❌ wrong\n"
     ]
    },
    {
     "data": {
      "image/png": "[encoded data removed]",
      "text/plain": [
       "<Figure size 600x300 with 5 Axes>"
      ]
     },
     "metadata": {},
     "output_type": "display_data"
    }
   ],
   "source": [
    "import matplotlib.pyplot as plt\n",
    "import numpy as np\n",
    "\n",
    "classes = [str(i) for i in range(10)]\n",
    "\n",
    "def imshow(img, title):\n",
    "    img = img / 2 + 0.5\n",
    "    npimg = img.numpy()\n",
    "    plt.imshow(np.transpose(npimg, (1, 2, 0)))\n",
    "    plt.title(title)\n",
    "    plt.axis('off')\n",
    "\n",
    "def show_predictions(model, dataloader, device):\n",
    "    model.eval()\n",
    "    correct_samples = []\n",
    "    incorrect_samples = []\n",
    "\n",
    "    with torch.no_grad():\n",
    "        for images, labels in dataloader:\n",
    "            images, labels = images.to(device), labels.to(device)\n",
    "            outputs = model(images)\n",
    "            _, predicted = torch.max(outputs, 1)\n",
    "\n",
    "            for img, pred, label in zip(images, predicted, labels):\n",
    "                if len(correct_samples) < 5 and pred == label:\n",
    "                    correct_samples.append((img.cpu(), pred.item(), label.item()))\n",
    "                elif len(incorrect_samples) < 5 and pred != label:\n",
    "                    incorrect_samples.append((img.cpu(), pred.item(), label.item()))\n",
    "                \n",
    "                if len(correct_samples) >= 5 and len(incorrect_samples) >= 5:\n",
    "                    break\n",
    "            if len(correct_samples) >= 5 and len(incorrect_samples) >= 5:\n",
    "                break\n",
    "\n",
    "    print(\"✅ correct\")\n",
    "    plt.figure(figsize=(6, 3))\n",
    "    for i, (img, pred, label) in enumerate(correct_samples):\n",
    "        plt.subplot(1, 5, i+1)\n",
    "        imshow(img, f\"Pred: {classes[pred]}\\nLabel: {classes[label]}\")\n",
    "    plt.tight_layout()\n",
    "    plt.show()\n",
    "\n",
    "    print(\"❌ wrong\")\n",
    "    plt.figure(figsize=(6, 3))\n",
    "    for i, (img, pred, label) in enumerate(incorrect_samples):\n",
    "        plt.subplot(1, 5, i+1)\n",
    "        imshow(img, f\"Pred: {classes[pred]}\\nLabel: {classes[label]}\")\n",
    "    plt.tight_layout()\n",
    "    plt.show()\n",
    "\n",
    "show_predictions(model, test_loader, device)"
   ]
  }
 ],
 "metadata": {
  "kernelspec": {
   "display_name": "subject",
   "language": "python",
   "name": "python3"
  },
  "language_info": {
   "codemirror_mode": {
    "name": "ipython",
    "version": 3
   },
   "file_extension": ".py",
   "mimetype": "text/x-python",
   "name": "python",
   "nbconvert_exporter": "python",
   "pygments_lexer": "ipython3",
   "version": "3.7.12"
  }
 },
 "nbformat": 4,
 "nbformat_minor": 2
}
